{
 "cells": [
  {
   "cell_type": "code",
   "execution_count": 10,
   "metadata": {},
   "outputs": [
    {
     "name": "stdout",
     "output_type": "stream",
     "text": [
      "Processing 50 R.E.M. SHINY HAPPY PEOPLE | 1991/50/REM - Shiny Happy People (1991) (HD) 4 720p.mp4 64.0 -> 84.0\n",
      "Processing 49 KLF, The 3 AM ETERNAL | 1991/49/The KLF - 3 am Eternal (1991) HD 4K 2 720p.mp4 180.0 -> 200.0\n",
      "Processing 48 Bad Boys Blue HOUSE OF SILENCE | 1991/48/Bad Boys Blue - House of Silence 4 720p.mp4 38.0 -> 58.0\n",
      "Processing 47 Pedro's Heavy Gentlemen MILJOONAN MARKAN PAKARAT | 1991/47/Miljoonan markan pakarat 1 720p.mp4 24.0 -> 44.0\n",
      "Processing 46 Neljä ruusua ELÄMÄ | 1991/46/Elämä 0 720p.mp4 88.0 -> 108.0\n",
      "Moviepy - Building video 1991 46-50.mp4.\n",
      "MoviePy - Writing audio in 1991 46-50TEMP_MPY_wvf_snd.mp3\n"
     ]
    },
    {
     "name": "stderr",
     "output_type": "stream",
     "text": [
      "                                                                      \r"
     ]
    },
    {
     "name": "stdout",
     "output_type": "stream",
     "text": [
      "MoviePy - Done.\n",
      "Moviepy - Writing video 1991 46-50.mp4\n",
      "\n"
     ]
    },
    {
     "name": "stderr",
     "output_type": "stream",
     "text": [
      "                                                                \r"
     ]
    },
    {
     "name": "stdout",
     "output_type": "stream",
     "text": [
      "Moviepy - Done !\n",
      "Moviepy - video ready 1991 46-50.mp4\n",
      "Video 41 Klamydia HIHHULIT TULOO ep not found: Directory missing\n",
      "Processing 45 Raptori TYYRIS TYLLERÖ | 1991/45/Raptori - Tyyris tyllerö (HQ) 1 720p.mp4 31.0 -> 51.0\n",
      "Processing 44 Enigma MEA CULPA | 1991/44/Mea Culpa 2 720p.mp4 74.0 -> 94.0\n",
      "Processing 43 Hector YHTENÄ ILTANA | 1991/43/Yhtenä iltana 1 720p.mp4 66.0 -> 86.0\n",
      "Processing 42 Cooper, Alice HEY STOOPID | 1991/42/Hey Stoopid 0 360p.mp4 85.0 -> 105.0\n",
      "Processing 41 Klamydia HIHHULIT TULOO ep |  nan -> nan\n",
      "Moviepy - Building video 1991 41-45.mp4.\n",
      "MoviePy - Writing audio in 1991 41-45TEMP_MPY_wvf_snd.mp3\n"
     ]
    },
    {
     "name": "stderr",
     "output_type": "stream",
     "text": [
      "                                                                      \r"
     ]
    },
    {
     "name": "stdout",
     "output_type": "stream",
     "text": [
      "MoviePy - Done.\n",
      "Moviepy - Writing video 1991 41-45.mp4\n",
      "\n"
     ]
    },
    {
     "name": "stderr",
     "output_type": "stream",
     "text": [
      "                                                                \r"
     ]
    },
    {
     "name": "stdout",
     "output_type": "stream",
     "text": [
      "Moviepy - Done !\n",
      "Moviepy - video ready 1991 41-45.mp4\n",
      "Processing 40 Popeda KIRJE | 1991/40/Kirje (The Letter) 1 720p.mp4 63.0 -> 83.0\n",
      "Processing 39 Hector JUODAAN VIINAA | 1991/39/Juodaan viinaa 2 720p.mp4 51.0 -> 71.0\n",
      "Processing 38 Sorsakoski, Topi HAAVEKUVA | 1991/38/Haavekuva (Portrait Of My Love) 5 720p.mp4 55.0 -> 75.0\n",
      "Processing 37 Popeda PUNAISTA JA MAKEAA | 1991/37/Punaista Ja Makeaa 2 720p.mp4 38.0 -> 58.0\n",
      "Processing 36 Metallica THE UNFORGIVEN | 1991/36/Metallica - The Unforgiven (Official Music Video) 0 360p.mp4 83.0 -> 103.0\n",
      "Moviepy - Building video 1991 36-40.mp4.\n",
      "MoviePy - Writing audio in 1991 36-40TEMP_MPY_wvf_snd.mp3\n"
     ]
    },
    {
     "name": "stderr",
     "output_type": "stream",
     "text": [
      "                                                                      \r"
     ]
    },
    {
     "name": "stdout",
     "output_type": "stream",
     "text": [
      "MoviePy - Done.\n",
      "Moviepy - Writing video 1991 36-40.mp4\n",
      "\n"
     ]
    },
    {
     "name": "stderr",
     "output_type": "stream",
     "text": [
      "                                                                \r"
     ]
    },
    {
     "name": "stdout",
     "output_type": "stream",
     "text": [
      "Moviepy - Done !\n",
      "Moviepy - video ready 1991 36-40.mp4\n",
      "Processing 35 Edelmann, Samuli PIENESTÄ KII | 1991/35/Pienestä kii 2 720p.mp4 11.0 -> 31.0\n",
      "Processing 34 Adams, Bryan CAN'T STOP THIS THING WE STARTED | 1991/34/Cant Stop This Thing We Started 0 360p.mp4 42.0 -> 62.0\n",
      "Processing 33 R.E.M. LOSING MY RELIGION | 1991/33/Losing My Religion 0 360p.mp4 52.0 -> 72.0\n",
      "Processing 32 Sielun veljet LAATIKOITA | 1991/32/Laatikoita 0 720p.mp4 73.0 -> 93.0\n",
      "Processing 31 Kikka ONNEN NAINENKIN SILLOIN VASTA SAA | 1991/31/Onnen Nainenkin Silloin Vasta Saa 2 720p.mp4 14.0 -> 34.0\n",
      "Moviepy - Building video 1991 31-35.mp4.\n",
      "MoviePy - Writing audio in 1991 31-35TEMP_MPY_wvf_snd.mp3\n"
     ]
    },
    {
     "name": "stderr",
     "output_type": "stream",
     "text": [
      "                                                                      \r"
     ]
    },
    {
     "name": "stdout",
     "output_type": "stream",
     "text": [
      "MoviePy - Done.\n",
      "Moviepy - Writing video 1991 31-35.mp4\n",
      "\n"
     ]
    },
    {
     "name": "stderr",
     "output_type": "stream",
     "text": [
      "                                                                \r"
     ]
    },
    {
     "name": "stdout",
     "output_type": "stream",
     "text": [
      "Moviepy - Done !\n",
      "Moviepy - video ready 1991 31-35.mp4\n",
      "Processing 30 U2 THE FLY | 1991/30/The Fly (Official Music Video) 0 720p.mp4 142.0 -> 162.0\n",
      "Processing 29 Raptori OI BEIBI 2 | 1991/29/Raptori - Oi beibi 2 (HQ) 4 720p.mp4 0.0 -> 20.0\n",
      "Processing 28 KLF, The LAST TRAIN TO TRANCENTRAL | 1991/28/The KLF - Last Train To Trancentral (Live From The Lost Continent) (Official Video) 0 720p.mp4 58.0 -> 78.0\n",
      "Processing 27 Pojat PASI VIRTANEN | 1991/27/Pasi Virtanen (Jimmy Brown) 4 720p.mp4 34.0 -> 54.0\n",
      "Processing 26 Guns n' Roses LIVE AND LET DIE | 1991/26/Live And Let Die Edited Master 0 720p.mp4 36.0 -> 56.0\n",
      "Moviepy - Building video 1991 26-30.mp4.\n",
      "MoviePy - Writing audio in 1991 26-30TEMP_MPY_wvf_snd.mp3\n"
     ]
    },
    {
     "name": "stderr",
     "output_type": "stream",
     "text": [
      "                                                                      \r"
     ]
    },
    {
     "name": "stdout",
     "output_type": "stream",
     "text": [
      "MoviePy - Done.\n",
      "Moviepy - Writing video 1991 26-30.mp4\n",
      "\n"
     ]
    },
    {
     "name": "stderr",
     "output_type": "stream",
     "text": [
      "                                                                \r"
     ]
    },
    {
     "name": "stdout",
     "output_type": "stream",
     "text": [
      "Moviepy - Done !\n",
      "Moviepy - video ready 1991 26-30.mp4\n",
      "Processing 25 Genesis NO SON OF MINE | 1991/25/No Son Of Mine (Official Music Video) 0 360p.mp4 115.0 -> 135.0\n",
      "Processing 24 Cruise, Julee FALLING | 1991/24/Falling 3 720p.mp4 0.0 -> 20.0\n",
      "Processing 23 Redford, Ressu KATO MITÄ SÄ TEIT | 1991/23/Ressu Redford - Kato mitä sä teit (live 1992) 3 720p.mp4 51.0 -> 71.0\n",
      "Processing 22 Leskinen, Juice PIENESTÄ PITÄEN | 1991/22/Juice Leskinen - Pienestä Pitäen(HD) 4 720p.mp4 61.0 -> 81.0\n",
      "Processing 21 Dire Straits CALLING ELVIS | 1991/21/Calling Elvis Video 0 720p.mp4 166.0 -> 186.0\n",
      "Moviepy - Building video 1991 21-25.mp4.\n",
      "MoviePy - Writing audio in 1991 21-25TEMP_MPY_wvf_snd.mp3\n"
     ]
    },
    {
     "name": "stderr",
     "output_type": "stream",
     "text": [
      "                                                                      \r"
     ]
    },
    {
     "name": "stdout",
     "output_type": "stream",
     "text": [
      "MoviePy - Done.\n",
      "Moviepy - Writing video 1991 21-25.mp4\n",
      "\n"
     ]
    },
    {
     "name": "stderr",
     "output_type": "stream",
     "text": [
      "                                                                \r"
     ]
    },
    {
     "name": "stdout",
     "output_type": "stream",
     "text": [
      "Moviepy - Done !\n",
      "Moviepy - video ready 1991 21-25.mp4\n",
      "Processing 20 Isaak, Chris BLUE HOTEL | 1991/20/Blue Hotel 2 720p.mp4 71.0 -> 91.0\n",
      "Processing 19 Kurre JÄIT SATEEN TAA | 1991/19/Jäit sateen taa 1 720p.mp4 48.0 -> 68.0\n",
      "Processing 18 Eppu Normaali LENSIN MATALALLA 2 | 1991/18/Lensin Matalalla 2 0 720p.mp4 64.0 -> 84.0\n",
      "Processing 17 Enigma SADENESS | 1991/17/Sadeness 0 360p.mp4 0.0 -> 20.0\n",
      "Processing 16 Kolmas nainen ELÄMÄN TARKOITUS | 1991/16/Kolmas Nainen - Elämän tarkoitus (pitkä versio) 3 720p.mp4 154.0 -> 174.0\n",
      "Moviepy - Building video 1991 16-20.mp4.\n",
      "MoviePy - Writing audio in 1991 16-20TEMP_MPY_wvf_snd.mp3\n"
     ]
    },
    {
     "name": "stderr",
     "output_type": "stream",
     "text": [
      "                                                                      \r"
     ]
    },
    {
     "name": "stdout",
     "output_type": "stream",
     "text": [
      "MoviePy - Done.\n",
      "Moviepy - Writing video 1991 16-20.mp4\n",
      "\n"
     ]
    },
    {
     "name": "stderr",
     "output_type": "stream",
     "text": [
      "                                                                \r"
     ]
    },
    {
     "name": "stdout",
     "output_type": "stream",
     "text": [
      "Moviepy - Done !\n",
      "Moviepy - video ready 1991 16-20.mp4\n",
      "Processing 15 Isaak, Chris WICKED GAME | 1991/15/Wicked Game 1 720p.mp4 51.0 -> 71.0\n",
      "Processing 14 Edelmann, Samuli PEGGY | 1991/14/Samuli Edelmann Peggy (live 1991) 1 360p.mp4 60.0 -> 80.0\n",
      "Processing 13 Roxette FADING LIKE A FLOWER | 1991/13/Roxette - Fading Like A Flower (Every Time You Leave) (1991) HQ 3 720p.mp4 48.0 -> 68.0\n",
      "Processing 12 Ne Luumäet ONNELLINEN PERHE | 1991/12/Onnellinen Perhe 1 720p.mp4 13.0 -> 33.0\n",
      "Processing 11 Erasure LOVE TO HATE YOU | 1991/11/Love to Hate You 0 720p.mp4 10.0 -> 30.0\n",
      "Moviepy - Building video 1991 11-15.mp4.\n",
      "MoviePy - Writing audio in 1991 11-15TEMP_MPY_wvf_snd.mp3\n"
     ]
    },
    {
     "name": "stderr",
     "output_type": "stream",
     "text": [
      "                                                                      \r"
     ]
    },
    {
     "name": "stdout",
     "output_type": "stream",
     "text": [
      "MoviePy - Done.\n",
      "Moviepy - Writing video 1991 11-15.mp4\n",
      "\n"
     ]
    },
    {
     "name": "stderr",
     "output_type": "stream",
     "text": [
      "                                                                \r"
     ]
    },
    {
     "name": "stdout",
     "output_type": "stream",
     "text": [
      "Moviepy - Done !\n",
      "Moviepy - video ready 1991 11-15.mp4\n",
      "Processing 10 Guns n' Roses DON'T CRY | 1991/10/Guns N Roses - Dont Cry  (Tokyo 1992)  HD Remastered 2 720p.mp4 0.0 -> 20.0\n",
      "Processing 9 London Boys SWEET SOUL MUSIC | 1991/9/Sweet Soul Music 1 720p.mp4 15.0 -> 35.0\n",
      "Processing 8 De La Soul RING RING RING (HA HA HEY) | 1991/8/Ring Ring Ring (Ha Ha Hey) (Official Music Video) [HD] 0 720p.mp4 0.0 -> 20.0\n",
      "Processing 7 Hausmylly SE MUSTAMIES | 1991/7/Hausmylly - Se mustamies 2 360p.mp4 0.0 -> 20.0\n",
      "Processing 6 Metallica ENTER SANDMAN | 1991/6/Enter Sandman 0 360p.mp4 0.0 -> 20.0\n",
      "Moviepy - Building video 1991 6-10.mp4.\n",
      "MoviePy - Writing audio in 1991 6-10TEMP_MPY_wvf_snd.mp3\n"
     ]
    },
    {
     "name": "stderr",
     "output_type": "stream",
     "text": [
      "                                                                      \r"
     ]
    },
    {
     "name": "stdout",
     "output_type": "stream",
     "text": [
      "MoviePy - Done.\n",
      "Moviepy - Writing video 1991 6-10.mp4\n",
      "\n"
     ]
    },
    {
     "name": "stderr",
     "output_type": "stream",
     "text": [
      "                                                                \r"
     ]
    },
    {
     "name": "stdout",
     "output_type": "stream",
     "text": [
      "Moviepy - Done !\n",
      "Moviepy - video ready 1991 6-10.mp4\n",
      "Processing 5 Inner Circle BAD BOYS | 1991/5/Inner Circle - Bad Boys (Official Music Video) 3 720p.mp4 0.0 -> 20.0\n",
      "Processing 4 Guns n' Roses YOU COULD BE MINE | 1991/4/Guns N Roses - You Could Be Mine (Official Video HD) 0 720p.mp4 60.0 -> 80.0\n",
      "Processing 3 Jackson, Michael BLACK OR WHITE | 1991/3/Black or White (Official Video) 2 360p.mp4 152.0 -> 172.0\n",
      "Processing 2 Roxette JOYRIDE | 1991/2/Joyride 1 720p.mp4 20.0 -> 40.0\n",
      "Processing 1 Adams, Bryan (EVERYTHING I DO) I DO IT FOR YOU | 1991/1/(Everything I Do) I Do It for You 0 720p.mp4 14.0 -> 34.0\n",
      "Moviepy - Building video 1991 1-5.mp4.\n",
      "MoviePy - Writing audio in 1991 1-5TEMP_MPY_wvf_snd.mp3\n"
     ]
    },
    {
     "name": "stderr",
     "output_type": "stream",
     "text": [
      "                                                                      \r"
     ]
    },
    {
     "name": "stdout",
     "output_type": "stream",
     "text": [
      "MoviePy - Done.\n",
      "Moviepy - Writing video 1991 1-5.mp4\n",
      "\n"
     ]
    },
    {
     "name": "stderr",
     "output_type": "stream",
     "text": [
      "                                                                \r"
     ]
    },
    {
     "name": "stdout",
     "output_type": "stream",
     "text": [
      "Moviepy - Done !\n",
      "Moviepy - video ready 1991 1-5.mp4\n",
      "Video 41 Klamydia HIHHULIT TULOO ep not found: Directory missing\n",
      "Processing 50 R.E.M. SHINY HAPPY PEOPLE | 1991/50/REM - Shiny Happy People (1991) (HD) 4 720p.mp4 64.0 -> 84.0\n",
      "Processing 49 KLF, The 3 AM ETERNAL | 1991/49/The KLF - 3 am Eternal (1991) HD 4K 2 720p.mp4 180.0 -> 200.0\n",
      "Processing 48 Bad Boys Blue HOUSE OF SILENCE | 1991/48/Bad Boys Blue - House of Silence 4 720p.mp4 38.0 -> 58.0\n",
      "Processing 47 Pedro's Heavy Gentlemen MILJOONAN MARKAN PAKARAT | 1991/47/Miljoonan markan pakarat 1 720p.mp4 24.0 -> 44.0\n",
      "Processing 46 Neljä ruusua ELÄMÄ | 1991/46/Elämä 0 720p.mp4 88.0 -> 108.0\n",
      "Processing 45 Raptori TYYRIS TYLLERÖ | 1991/45/Raptori - Tyyris tyllerö (HQ) 1 720p.mp4 31.0 -> 51.0\n",
      "Processing 44 Enigma MEA CULPA | 1991/44/Mea Culpa 2 720p.mp4 74.0 -> 94.0\n",
      "Processing 43 Hector YHTENÄ ILTANA | 1991/43/Yhtenä iltana 1 720p.mp4 66.0 -> 86.0\n",
      "Processing 42 Cooper, Alice HEY STOOPID | 1991/42/Hey Stoopid 0 360p.mp4 85.0 -> 105.0\n",
      "Processing 41 Klamydia HIHHULIT TULOO ep |  nan -> nan\n",
      "Moviepy - Building video 1991 41-50.mp4.\n",
      "MoviePy - Writing audio in 1991 41-50TEMP_MPY_wvf_snd.mp3\n"
     ]
    },
    {
     "name": "stderr",
     "output_type": "stream",
     "text": [
      "                                                                      \r"
     ]
    },
    {
     "name": "stdout",
     "output_type": "stream",
     "text": [
      "MoviePy - Done.\n",
      "Moviepy - Writing video 1991 41-50.mp4\n",
      "\n"
     ]
    },
    {
     "name": "stderr",
     "output_type": "stream",
     "text": [
      "                                                                  \r"
     ]
    },
    {
     "name": "stdout",
     "output_type": "stream",
     "text": [
      "Moviepy - Done !\n",
      "Moviepy - video ready 1991 41-50.mp4\n",
      "Processing 40 Popeda KIRJE | 1991/40/Kirje (The Letter) 1 720p.mp4 63.0 -> 83.0\n",
      "Processing 39 Hector JUODAAN VIINAA | 1991/39/Juodaan viinaa 2 720p.mp4 51.0 -> 71.0\n",
      "Processing 38 Sorsakoski, Topi HAAVEKUVA | 1991/38/Haavekuva (Portrait Of My Love) 5 720p.mp4 55.0 -> 75.0\n",
      "Processing 37 Popeda PUNAISTA JA MAKEAA | 1991/37/Punaista Ja Makeaa 2 720p.mp4 38.0 -> 58.0\n",
      "Processing 36 Metallica THE UNFORGIVEN | 1991/36/Metallica - The Unforgiven (Official Music Video) 0 360p.mp4 83.0 -> 103.0\n",
      "Processing 35 Edelmann, Samuli PIENESTÄ KII | 1991/35/Pienestä kii 2 720p.mp4 11.0 -> 31.0\n",
      "Processing 34 Adams, Bryan CAN'T STOP THIS THING WE STARTED | 1991/34/Cant Stop This Thing We Started 0 360p.mp4 42.0 -> 62.0\n",
      "Processing 33 R.E.M. LOSING MY RELIGION | 1991/33/Losing My Religion 0 360p.mp4 52.0 -> 72.0\n",
      "Processing 32 Sielun veljet LAATIKOITA | 1991/32/Laatikoita 0 720p.mp4 73.0 -> 93.0\n",
      "Processing 31 Kikka ONNEN NAINENKIN SILLOIN VASTA SAA | 1991/31/Onnen Nainenkin Silloin Vasta Saa 2 720p.mp4 14.0 -> 34.0\n",
      "Moviepy - Building video 1991 31-40.mp4.\n",
      "MoviePy - Writing audio in 1991 31-40TEMP_MPY_wvf_snd.mp3\n"
     ]
    },
    {
     "name": "stderr",
     "output_type": "stream",
     "text": [
      "                                                                      \r"
     ]
    },
    {
     "name": "stdout",
     "output_type": "stream",
     "text": [
      "MoviePy - Done.\n",
      "Moviepy - Writing video 1991 31-40.mp4\n",
      "\n"
     ]
    },
    {
     "name": "stderr",
     "output_type": "stream",
     "text": [
      "                                                                  \r"
     ]
    },
    {
     "name": "stdout",
     "output_type": "stream",
     "text": [
      "Moviepy - Done !\n",
      "Moviepy - video ready 1991 31-40.mp4\n",
      "Processing 30 U2 THE FLY | 1991/30/The Fly (Official Music Video) 0 720p.mp4 142.0 -> 162.0\n",
      "Processing 29 Raptori OI BEIBI 2 | 1991/29/Raptori - Oi beibi 2 (HQ) 4 720p.mp4 0.0 -> 20.0\n",
      "Processing 28 KLF, The LAST TRAIN TO TRANCENTRAL | 1991/28/The KLF - Last Train To Trancentral (Live From The Lost Continent) (Official Video) 0 720p.mp4 58.0 -> 78.0\n",
      "Processing 27 Pojat PASI VIRTANEN | 1991/27/Pasi Virtanen (Jimmy Brown) 4 720p.mp4 34.0 -> 54.0\n",
      "Processing 26 Guns n' Roses LIVE AND LET DIE | 1991/26/Live And Let Die Edited Master 0 720p.mp4 36.0 -> 56.0\n",
      "Processing 25 Genesis NO SON OF MINE | 1991/25/No Son Of Mine (Official Music Video) 0 360p.mp4 115.0 -> 135.0\n",
      "Processing 24 Cruise, Julee FALLING | 1991/24/Falling 3 720p.mp4 0.0 -> 20.0\n",
      "Processing 23 Redford, Ressu KATO MITÄ SÄ TEIT | 1991/23/Ressu Redford - Kato mitä sä teit (live 1992) 3 720p.mp4 51.0 -> 71.0\n",
      "Processing 22 Leskinen, Juice PIENESTÄ PITÄEN | 1991/22/Juice Leskinen - Pienestä Pitäen(HD) 4 720p.mp4 61.0 -> 81.0\n",
      "Processing 21 Dire Straits CALLING ELVIS | 1991/21/Calling Elvis Video 0 720p.mp4 166.0 -> 186.0\n",
      "Moviepy - Building video 1991 21-30.mp4.\n",
      "MoviePy - Writing audio in 1991 21-30TEMP_MPY_wvf_snd.mp3\n"
     ]
    },
    {
     "name": "stderr",
     "output_type": "stream",
     "text": [
      "                                                                      \r"
     ]
    },
    {
     "name": "stdout",
     "output_type": "stream",
     "text": [
      "MoviePy - Done.\n",
      "Moviepy - Writing video 1991 21-30.mp4\n",
      "\n"
     ]
    },
    {
     "name": "stderr",
     "output_type": "stream",
     "text": [
      "                                                                  \r"
     ]
    },
    {
     "name": "stdout",
     "output_type": "stream",
     "text": [
      "Moviepy - Done !\n",
      "Moviepy - video ready 1991 21-30.mp4\n",
      "Processing 20 Isaak, Chris BLUE HOTEL | 1991/20/Blue Hotel 2 720p.mp4 71.0 -> 91.0\n",
      "Processing 19 Kurre JÄIT SATEEN TAA | 1991/19/Jäit sateen taa 1 720p.mp4 48.0 -> 68.0\n",
      "Processing 18 Eppu Normaali LENSIN MATALALLA 2 | 1991/18/Lensin Matalalla 2 0 720p.mp4 64.0 -> 84.0\n",
      "Processing 17 Enigma SADENESS | 1991/17/Sadeness 0 360p.mp4 0.0 -> 20.0\n",
      "Processing 16 Kolmas nainen ELÄMÄN TARKOITUS | 1991/16/Kolmas Nainen - Elämän tarkoitus (pitkä versio) 3 720p.mp4 154.0 -> 174.0\n",
      "Processing 15 Isaak, Chris WICKED GAME | 1991/15/Wicked Game 1 720p.mp4 51.0 -> 71.0\n",
      "Processing 14 Edelmann, Samuli PEGGY | 1991/14/Samuli Edelmann Peggy (live 1991) 1 360p.mp4 60.0 -> 80.0\n",
      "Processing 13 Roxette FADING LIKE A FLOWER | 1991/13/Roxette - Fading Like A Flower (Every Time You Leave) (1991) HQ 3 720p.mp4 48.0 -> 68.0\n",
      "Processing 12 Ne Luumäet ONNELLINEN PERHE | 1991/12/Onnellinen Perhe 1 720p.mp4 13.0 -> 33.0\n",
      "Processing 11 Erasure LOVE TO HATE YOU | 1991/11/Love to Hate You 0 720p.mp4 10.0 -> 30.0\n",
      "Moviepy - Building video 1991 11-20.mp4.\n",
      "MoviePy - Writing audio in 1991 11-20TEMP_MPY_wvf_snd.mp3\n"
     ]
    },
    {
     "name": "stderr",
     "output_type": "stream",
     "text": [
      "                                                                      \r"
     ]
    },
    {
     "name": "stdout",
     "output_type": "stream",
     "text": [
      "MoviePy - Done.\n",
      "Moviepy - Writing video 1991 11-20.mp4\n",
      "\n"
     ]
    },
    {
     "name": "stderr",
     "output_type": "stream",
     "text": [
      "                                                                  \r"
     ]
    },
    {
     "name": "stdout",
     "output_type": "stream",
     "text": [
      "Moviepy - Done !\n",
      "Moviepy - video ready 1991 11-20.mp4\n",
      "Processing 10 Guns n' Roses DON'T CRY | 1991/10/Guns N Roses - Dont Cry  (Tokyo 1992)  HD Remastered 2 720p.mp4 0.0 -> 20.0\n",
      "Processing 9 London Boys SWEET SOUL MUSIC | 1991/9/Sweet Soul Music 1 720p.mp4 15.0 -> 35.0\n",
      "Processing 8 De La Soul RING RING RING (HA HA HEY) | 1991/8/Ring Ring Ring (Ha Ha Hey) (Official Music Video) [HD] 0 720p.mp4 0.0 -> 20.0\n",
      "Processing 7 Hausmylly SE MUSTAMIES | 1991/7/Hausmylly - Se mustamies 2 360p.mp4 0.0 -> 20.0\n",
      "Processing 6 Metallica ENTER SANDMAN | 1991/6/Enter Sandman 0 360p.mp4 0.0 -> 20.0\n",
      "Processing 5 Inner Circle BAD BOYS | 1991/5/Inner Circle - Bad Boys (Official Music Video) 3 720p.mp4 0.0 -> 20.0\n",
      "Processing 4 Guns n' Roses YOU COULD BE MINE | 1991/4/Guns N Roses - You Could Be Mine (Official Video HD) 0 720p.mp4 60.0 -> 80.0\n",
      "Processing 3 Michael Jackson BLACK OR WHITE | 1991/3/Black or White (Official Video) 2 360p.mp4 152.0 -> 172.0\n",
      "Processing 2 Roxette JOYRIDE | 1991/2/Joyride 1 720p.mp4 20.0 -> 40.0\n",
      "Processing 1 Bryan Adams (EVERYTHING I DO) I DO IT FOR YOU | 1991/1/(Everything I Do) I Do It for You 0 720p.mp4 14.0 -> 34.0\n",
      "Moviepy - Building video 1991 1-10.mp4.\n",
      "MoviePy - Writing audio in 1991 1-10TEMP_MPY_wvf_snd.mp3\n"
     ]
    },
    {
     "name": "stderr",
     "output_type": "stream",
     "text": [
      "                                                                      \r"
     ]
    },
    {
     "name": "stdout",
     "output_type": "stream",
     "text": [
      "MoviePy - Done.\n",
      "Moviepy - Writing video 1991 1-10.mp4\n",
      "\n"
     ]
    },
    {
     "name": "stderr",
     "output_type": "stream",
     "text": [
      "                                                                     \r"
     ]
    },
    {
     "name": "stdout",
     "output_type": "stream",
     "text": [
      "Moviepy - Done !\n",
      "Moviepy - video ready 1991 1-10.mp4\n"
     ]
    }
   ],
   "source": [
    "import os\n",
    "import glob\n",
    "import re\n",
    "\n",
    "from moviepy.editor import VideoFileClip, concatenate_videoclips, CompositeVideoClip, TextClip, ImageClip, afx\n",
    "import cairosvg\n",
    "import html\n",
    "from common import get_videos\n",
    "\n",
    "\n",
    "video_length = 20\n",
    "muted_length = 5\n",
    "intro_length = 2\n",
    "cross_fade = 2\n",
    "temp_dir = 'svg_temp'\n",
    "width = 1080\n",
    "height = 1920\n",
    "\n",
    "def get_video_meta():\n",
    "    videos = []\n",
    "    with open('list.csv', 'r', encoding='utf-8') as f:\n",
    "        reader = csv.reader(f, dialect='mydialect')\n",
    "        for row in reader:\n",
    "            if len(row) > 0:\n",
    "                videos.append({'year': int(row[0]), 'ranking': int(row[1]), 'artist': row[2], 'song': row[3]})\n",
    "    return videos\n",
    "\n",
    "def get_songs(year, start, end):\n",
    "    videos = get_videos(year, start, end)\n",
    "    for video in videos:\n",
    "        if video['status'] != 'OK':\n",
    "            print(f'Video {video[\"ranking\"]} {video[\"artist\"]} {video[\"title\"]} not found: {video[\"status\"]}')\n",
    "    return videos\n",
    "\n",
    "def make_missing():\n",
    "    svg = f\"\"\"<?xml version=\"1.0\" encoding=\"UTF-8\"?>\n",
    "<svg xmlns=\"http://www.w3.org/2000/svg\" xmlns:xlink=\"http://www.w3.org/1999/xlink\" width=\"1080\" height=\"1920\">\n",
    "    <text font-family=\"Russo One\" font-size=\"70\" fill=\"white\" stroke=\"black\" stroke-width=\"3\" text-anchor=\"middle\" x=\"50%\" y=\"50%\">\n",
    "        <tspan x=\"50%\" dy=\"1em\">Ääniraitaa ei löytynyt :(</tspan>\n",
    "    </text>\n",
    "</svg>\n",
    "    \"\"\"\n",
    "    filename = f\"{temp_dir}/missing.png\"\n",
    "    cairosvg.svg2png(bytestring=svg.encode(), write_to=filename, output_width=width, output_height=height)\n",
    "    return ImageClip(filename)\n",
    "\n",
    "def make_muted():\n",
    "    svg = f\"\"\"<?xml version=\"1.0\" encoding=\"UTF-8\"?>\n",
    "<svg xmlns=\"http://www.w3.org/2000/svg\" xmlns:xlink=\"http://www.w3.org/1999/xlink\" width=\"1080\" height=\"1920\">\n",
    "    <text font-family=\"Russo One\" font-size=\"60\" fill=\"white\" stroke=\"black\" stroke-width=\"3\" text-anchor=\"middle\" x=\"50%\" y=\"50%\">\n",
    "        <tspan x=\"50%\" dy=\"1em\">Ääni poistettu tekijänoikeussyistä</tspan>\n",
    "    </text>\n",
    "</svg>\n",
    "    \"\"\"\n",
    "    filename = f\"{temp_dir}/muted.png\"\n",
    "    cairosvg.svg2png(bytestring=svg.encode(), write_to=filename, output_width=width, output_height=height)\n",
    "    return ImageClip(filename)\n",
    "\n",
    "def make_header(year, start, end):\n",
    "    svg = f\"\"\"<?xml version=\"1.0\" encoding=\"UTF-8\"?>\n",
    "<svg xmlns=\"http://www.w3.org/2000/svg\" xmlns:xlink=\"http://www.w3.org/1999/xlink\" width=\"{width}\" height=\"{height}\">\n",
    "    <text font-family=\"Russo One\" font-size=\"60\" fill=\"white\" stroke=\"black\" stroke-width=\"3\" text-anchor=\"middle\" x=\"50%\" y=\"5%\">\n",
    "        <tspan x=\"50%\" dy=\"1em\">Suomen top-lista</tspan>\n",
    "        <tspan x=\"50%\" dy=\"1.1em\" font-weight=\"bold\">{year}</tspan>\n",
    "        <tspan x=\"50%\" dy=\"1.1em\">Sijat {start} - {end}</tspan>\n",
    "    </text>\n",
    "</svg>\n",
    "    \"\"\"\n",
    "    filename = f\"{temp_dir}/header_{year}_{start}_{end}.png\"\n",
    "    cairosvg.svg2png(bytestring=svg.encode(), write_to=filename, output_width=width, output_height=height)\n",
    "    return ImageClip(filename)\n",
    "\n",
    "def make_cover(year, start, end):\n",
    "    svg = f\"\"\"<?xml version=\"1.0\" encoding=\"UTF-8\"?>\n",
    "<svg xmlns=\"http://www.w3.org/2000/svg\" xmlns:xlink=\"http://www.w3.org/1999/xlink\" width=\"1080\" height=\"1920\">\n",
    "  <polygon points=\"0,240 1000,240 1040,280 40,280 40,820 0,780\" style=\"fill:#1fd5ee;\" />\n",
    "  <polygon points=\"1040,280 1040,820 40,820 80,860 1080,860 1080,320\" style=\"fill:#fc2b55;\" />\n",
    "  <rect width=\"1000\" height=\"540\" style=\"fill:black;\" x=\"40\" y=\"280\" />\n",
    "  <text font-family=\"Russo One\" font-size=\"104\" fill=\"white\" stroke=\"black\" stroke-width=\"3\" text-anchor=\"middle\" x=\"50%\" y=\"420\">\n",
    "    <tspan x=\"50%\">Suomen top-lista</tspan>\n",
    "    <tspan x=\"50%\" dy=\"1.3em\" font-weight=\"bold\">{year}</tspan>\n",
    "    <tspan x=\"50%\" dy=\"1.3em\">Sijat {start} - {end}</tspan>\n",
    "  </text>\n",
    "</svg>\n",
    "    \"\"\"\n",
    "    filename = f\"{temp_dir}/cover_{year}_{start}_{end}.png\"\n",
    "    cairosvg.svg2png(bytestring=svg.encode(), write_to=filename, output_width=width, output_height=height)\n",
    "    return ImageClip(filename)\n",
    "\n",
    "def make_song_title(year, ranking, artist, title):\n",
    "    try:\n",
    "        artist = html.escape(artist)\n",
    "        title = html.escape(title)\n",
    "        artist_size = 60\n",
    "        title_size = 60\n",
    "        \n",
    "        if(len(artist) > 25):\n",
    "            artist_size = 50\n",
    "        if(len(artist) > 35):\n",
    "            artist_size = 40\n",
    "\n",
    "        if(len(title) > 25):\n",
    "            title_size = 50\n",
    "        if(len(title) > 35):\n",
    "            title_size = 40\n",
    "\n",
    "        svg = f\"\"\"<?xml version=\"1.0\" encoding=\"UTF-8\"?>\n",
    "    <svg xmlns=\"http://www.w3.org/2000/svg\" xmlns:xlink=\"http://www.w3.org/1999/xlink\" width=\"{width}\" height=\"{height}\">\n",
    "        <text font-family=\"Russo One\" font-size=\"60\" fill=\"white\" stroke=\"black\" stroke-width=\"3\" text-anchor=\"middle\" x=\"50%\" y=\"84%\">\n",
    "            <tspan x=\"50%\" dy=\"1em\" font-weight=\"bold\">{ranking}.</tspan>\n",
    "            <tspan x=\"50%\" dy=\"1em\" font-size=\"{artist_size}\">{artist}</tspan>\n",
    "            <tspan x=\"50%\" dy=\"1.1em\" font-size=\"{title_size}\">{title}</tspan>\n",
    "        </text>\n",
    "    </svg> \n",
    "        \"\"\"\n",
    "        filename = f\"{temp_dir}/{year}_{ranking}.png\"\n",
    "        cairosvg.svg2png(bytestring=svg.encode(), write_to=filename, output_width=width, output_height=height)\n",
    "        return ImageClip(filename)\n",
    "    except:\n",
    "        print(f'Error with {ranking} {artist} {title}')\n",
    "        raise\n",
    "\n",
    "def build_video(year, start, end):\n",
    "    \n",
    "    if not os.path.exists(temp_dir):\n",
    "        os.makedirs(temp_dir)\n",
    "\n",
    "    songs = get_songs(year, start, end)\n",
    "    songs = sorted(songs, key=lambda k: k['ranking'], reverse=True)\n",
    "\n",
    "    \n",
    "\n",
    "    # intro\n",
    "    intro_bg = (ImageClip('cover3_2.png')\n",
    "                .set_position((\"center\",\"center\"))\n",
    "                .set_duration(intro_length)\n",
    "                .resize(width=width, height=height))\n",
    "    intro_cover = (make_cover(year, start, end)\n",
    "                   .set_position((\"center\",\"center\"))\n",
    "                   .set_duration(intro_length))\n",
    "    intro_video = CompositeVideoClip([intro_bg, intro_cover], size=(width, height)).crossfadeout(1)\n",
    "\n",
    "    clips = []\n",
    "\n",
    "    for song in songs:\n",
    "\n",
    "        length = video_length\n",
    "        if song['audio_level'] == 0:\n",
    "            length = muted_length\n",
    "\n",
    "        print(f'Processing {song[\"ranking\"]} {song[\"artist\"]} {song[\"title\"]} | {song[\"file\"]} {song[\"start\"]} -> {song[\"start\"] + length}')\n",
    "\n",
    "        if len(song['file']) == 0:\n",
    "            video = make_missing().set_position((\"center\",\"center\")).set_duration(3)\n",
    "        else:\n",
    "            video = VideoFileClip(song['file']).subclip(song['start'], song['start'] + length)\n",
    "            video = video.set_position((\"center\",\"center\"))\n",
    "            video = video.audio_fadein(1).audio_fadeout(1)\n",
    "            video = video.crossfadein(cross_fade)\n",
    "            video = video.resize(height=1280)\n",
    "            video = video.fx(afx.audio_normalize)\n",
    "            if song['audio_level'] != 100:\n",
    "                video = video.fx(afx.volumex, song['audio_level']/100)\n",
    "\n",
    "        title = make_song_title(year, song['ranking'], song['artist'], song['title']).set_position((\"center\",\"bottom\")).set_duration(video.duration)\n",
    "        title = title.crossfadein(1).crossfadeout(1)\n",
    "\n",
    "        if song['audio_level'] == 0:\n",
    "            muted = make_muted().set_position((\"center\",\"center\")).set_duration(length)\n",
    "            video = video.fx(afx.volumex, 0)\n",
    "            clip = CompositeVideoClip([video, title, muted], size=(width, height))\n",
    "        else:\n",
    "            clip = CompositeVideoClip([video, title], size=(width, height))\n",
    "    \n",
    "        clips.append(clip)\n",
    "\n",
    "\n",
    "    songs_video = concatenate_videoclips(clips, method=\"compose\")\n",
    "\n",
    "    header = make_header(year, start, end).set_position((\"center\",\"top\")).set_duration(songs_video.duration)\n",
    "    songs_headers_video = CompositeVideoClip([songs_video, header], size=(width, height))\n",
    "\n",
    "    final_clip = concatenate_videoclips([intro_video, songs_headers_video], method=\"compose\")\n",
    "\n",
    "    final_clip.write_videofile(f'{year} {start}-{end}.mp4', fps=30)\n",
    "\n",
    "\n",
    "    for f in glob.glob(f\"{temp_dir}/*\"):\n",
    "        os.remove(f)\n",
    "\n",
    "\n",
    "\n",
    "\n",
    "\n",
    "build_video(1991, 46, 50)\n",
    "\"\"\"\n",
    "build_video(1991, 41, 45)\n",
    "build_video(1991, 36, 40)\n",
    "build_video(1991, 31, 35)\n",
    "build_video(1991, 26, 30)\n",
    "build_video(1991, 21, 25)\n",
    "build_video(1991, 16, 20)\n",
    "build_video(1991, 11, 15)\n",
    "build_video(1991, 6, 10)\n",
    "build_video(1991, 1, 5)\n",
    "\n",
    "build_video(1991, 41, 50)\n",
    "build_video(1991, 31, 40)\n",
    "build_video(1991, 21, 30)\n",
    "build_video(1991, 11, 20)\n",
    "build_video(1991, 1, 10)\n",
    "\"\"\""
   ]
  }
 ],
 "metadata": {
  "kernelspec": {
   "display_name": "Python 3",
   "language": "python",
   "name": "python3"
  },
  "language_info": {
   "codemirror_mode": {
    "name": "ipython",
    "version": 3
   },
   "file_extension": ".py",
   "mimetype": "text/x-python",
   "name": "python",
   "nbconvert_exporter": "python",
   "pygments_lexer": "ipython3",
   "version": "3.11.2"
  }
 },
 "nbformat": 4,
 "nbformat_minor": 2
}
