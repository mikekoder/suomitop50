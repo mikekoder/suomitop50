{
 "cells": [
  {
   "cell_type": "code",
   "execution_count": null,
   "metadata": {},
   "outputs": [],
   "source": [
    "import urllib.request\n",
    "from bs4 import BeautifulSoup\n",
    "import csv\n",
    "\n",
    "def download(url):\n",
    "    print('Downloading:', url)\n",
    "    try:\n",
    "        html = urllib.request.urlopen(url).read()\n",
    "    except urllib.error.URLError as e:\n",
    "        print('Download error:', e.reason)\n",
    "        html = None\n",
    "    return html\n",
    "\n",
    "def getList(url):\n",
    "    year = url.split('/')[-1].split('.')[0].split('-')[-1]\n",
    "    html = download(url)\n",
    "    soup = BeautifulSoup(html, 'html.parser')\n",
    "    table = soup.find('table')\n",
    "    rows = table.find_all('tr')\n",
    "    list = []\n",
    "    for row in rows:\n",
    "        cols = row.find_all('td')\n",
    "        ranking = cols[0].text.strip()\n",
    "        artist = cols[1].text.strip()\n",
    "        song = cols[2].text.strip()\n",
    "\n",
    "        list.append((year, ranking, artist, song))\n",
    "    \n",
    "    return list\n",
    "\n",
    "html = download('https://suomenvuosilistat.blogspot.com/')\n",
    "\n",
    "soup = BeautifulSoup(html, 'html.parser')\n",
    "all_items = []\n",
    "for link in soup.find_all('a'):\n",
    "    text = link.text.strip()\n",
    "    if text.isnumeric():\n",
    "        url = link.get('href')\n",
    "        list = getList(url)\n",
    "        all_items.extend(list)\n",
    "\n",
    "csv.register_dialect('mydialect', delimiter=';', quoting=csv.QUOTE_ALL)\n",
    "with open('list.csv', 'w', encoding='utf-8') as f:\n",
    "    writer = csv.writer(f, dialect='mydialect')\n",
    "    for item in all_items:\n",
    "        writer.writerow(item)"
   ]
  }
 ],
 "metadata": {
  "kernelspec": {
   "display_name": "Python 3",
   "language": "python",
   "name": "python3"
  },
  "language_info": {
   "codemirror_mode": {
    "name": "ipython",
    "version": 3
   },
   "file_extension": ".py",
   "mimetype": "text/x-python",
   "name": "python",
   "nbconvert_exporter": "python",
   "pygments_lexer": "ipython3",
   "version": "3.11.2"
  }
 },
 "nbformat": 4,
 "nbformat_minor": 2
}
